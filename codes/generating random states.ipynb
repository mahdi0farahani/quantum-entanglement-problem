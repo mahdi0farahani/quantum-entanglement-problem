{
 "cells": [
  {
   "cell_type": "markdown",
   "metadata": {
    "colab_type": "text",
    "id": "7L2WbBt5uNag"
   },
   "source": [
    "# 1. Preliminaries"
   ]
  },
  {
   "cell_type": "code",
   "execution_count": 2,
   "metadata": {
    "colab": {
     "base_uri": "https://localhost:8080/",
     "height": 85
    },
    "colab_type": "code",
    "executionInfo": {
     "elapsed": 5024,
     "status": "ok",
     "timestamp": 1584469489951,
     "user": {
      "displayName": "mahkame salimi",
      "photoUrl": "https://lh3.googleusercontent.com/a-/AOh14GhXCkBWY2tBzsPtIAaeDyn3ng2gbWea3ReVrZhe=s64",
      "userId": "11757140415455670736"
     },
     "user_tz": -210
    },
    "id": "lHgp6b1NuNat",
    "outputId": "472e7f3d-53e9-4c23-99a5-bb712c0be181"
   },
   "outputs": [],
   "source": [
    "##!pip3 install qutip\n",
    "import qutip as qp\n",
    "import numpy as np\n",
    "from scipy.spatial import ConvexHull, Delaunay\n",
    "import pandas as pd\n",
    "from random import random, choice, randint\n",
    "##from multiprocessing import Pool\n",
    "##from concurrent.futures import ThreadPoolExecutor"
   ]
  },
  {
   "cell_type": "markdown",
   "metadata": {
    "colab_type": "text",
    "id": "CkRTqRe-uNa_"
   },
   "source": [
    "# 2. Gell_Mann matrix generator function"
   ]
  },
  {
   "cell_type": "markdown",
   "metadata": {
    "colab_type": "text",
    "id": "Xaqtqo1quNbD"
   },
   "source": [
    "this function will generate the gellmann matrix of dimension d.\n",
    "\n",
    "the function \"gellmann(j,k,d)\" will generate the jth_kth gellmann matrix of dimension d. so for every d dimension we have d^2 gellmann matrix. one of them is I, so the number of gellmann matrix that is not trivial is (d^2 - 1)."
   ]
  },
  {
   "cell_type": "code",
   "execution_count": 3,
   "metadata": {
    "colab": {},
    "colab_type": "code",
    "id": "wjlZ7FERuNbH"
   },
   "outputs": [],
   "source": [
    "\"\"\"Generate generalized Gell-Mann matrices.\n",
    "  .. module:: gellmann.py\n",
    "     :synopsis: Generate generalized Gell-Mann matrices\n",
    "  .. moduleauthor:: Jonathan Gross <jarthurgross@gmail.com>\n",
    "\"\"\"\n",
    "from itertools import product\n",
    "\n",
    "def gellmann(j, k, d):\n",
    "    r\"\"\"Returns a generalized Gell-Mann matrix of dimension d.\n",
    "    \n",
    "    According to the convention in *Bloch Vectors for Qubits* by Bertlmann and\n",
    "    Krammer (2008), returns :math:`\\Lambda^j` for :math:`1\\leq j=k\\leq d-1`,\n",
    "    :math:`\\Lambda^{kj}_s` for :math:`1\\leq k<j\\leq d`, :math:`\\Lambda^{jk}_a`\n",
    "    for :math:`1\\leq j<k\\leq d`, and :math:`I` for :math:`j=k=d`.\n",
    "    Parameters\n",
    "    ----------\n",
    "    j : positive integer\n",
    "        Index for generalized Gell-Mann matrix\n",
    "    k : positive integer\n",
    "        Index for generalized Gell-Mann matrix\n",
    "    d : positive integer\n",
    "        Dimension of the generalized Gell-Mann matrix\n",
    "    Returns\n",
    "    -------\n",
    "    numpy.array\n",
    "        A genereralized Gell-Mann matrix.\n",
    "    \"\"\"\n",
    "\n",
    "    if j > k:\n",
    "        gjkd = np.zeros((d, d), dtype=np.complex128)\n",
    "        gjkd[j - 1][k - 1] = 1\n",
    "        gjkd[k - 1][j - 1] = 1\n",
    "    elif k > j:\n",
    "        gjkd = np.zeros((d, d), dtype=np.complex128)\n",
    "        gjkd[j - 1][k - 1] = -1.j\n",
    "        gjkd[k - 1][j - 1] = 1.j\n",
    "    elif j == k and j < d:\n",
    "        gjkd = np.sqrt(2/(j*(j + 1)))*np.diag([1 + 0.j if n <= j\n",
    "                                               else (-j + 0.j if n == (j + 1)\n",
    "                                                     else 0 + 0.j)\n",
    "                                               for n in range(1, d + 1)])\n",
    "    else:\n",
    "        gjkd = np.diag([1 + 0.j for n in range(1, d + 1)])\n",
    "\n",
    "    return gjkd\n",
    "\n",
    "def get_basis(d):\n",
    "    r\"\"\"Return a basis of operators.\n",
    "    \n",
    "    The basis is made up of orthogonal Hermitian operators on a Hilbert space\n",
    "    of dimension d, with the identity element in the last place.\n",
    "    Parameters\n",
    "    ----------\n",
    "    d : int\n",
    "        The dimension of the Hilbert space.\n",
    "    Returns\n",
    "    -------\n",
    "    list of numpy.array\n",
    "        The basis of operators.\n",
    "    \"\"\"\n",
    "    return [gellmann(j, k, d) for j, k in product(range(1, d + 1), repeat=2)]"
   ]
  },
  {
   "cell_type": "markdown",
   "metadata": {
    "colab_type": "text",
    "id": "1yB7X5nruNbU"
   },
   "source": [
    "in this cell the gellmann matrix of 3 dimension will generate and they will save in a dictionary and labeled them by numbers 0,1,...,8 ."
   ]
  },
  {
   "cell_type": "code",
   "execution_count": 4,
   "metadata": {
    "colab": {},
    "colab_type": "code",
    "id": "trodoU6zuNbY"
   },
   "outputs": [],
   "source": [
    "def gellmann_basis(d):\n",
    "    \"\"\" generalization gellmann matrice  \n",
    "    input : dimesion of system\n",
    "    output: dictionary of gellmann matrices of dimension 'd'\n",
    "    \"\"\"\n",
    "    \n",
    "    gellmann_basis = {}  ## a dictionary that saved the gellmann matrices\n",
    "\n",
    "    k=0\n",
    "    for i in range(1,d+1):\n",
    "        for j in range(1,d+1):\n",
    "            gellmann_basis.update({\"G{}\".format(k):gellmann(i,j,d)})\n",
    "            k+=1\n",
    "        \n",
    "    return gellmann_basis\n",
    "\n",
    "#gellmann_basis(3)"
   ]
  },
  {
   "cell_type": "markdown",
   "metadata": {
    "colab_type": "text",
    "id": "K4Ck7uDYuNbl"
   },
   "source": [
    "# 3. Coefficients of gellmann's expansion"
   ]
  },
  {
   "cell_type": "markdown",
   "metadata": {
    "colab_type": "text",
    "id": "_sL95KUXuNbp"
   },
   "source": [
    "at this cell a random density matrix will generate by qutip library.\n",
    "\n",
    "for calculating the coefficients of gellmann expansion we do this iteration:\n",
    "1. calculate the tensor product of gellmann matrices for every coefficient\n",
    "2. calculate the dot product of \"ro\" and the \"gellmann's tensor product\"\n",
    "3. calculate the trace of this matrix and divide it into 4\n",
    "4. append it to our index list"
   ]
  },
  {
   "cell_type": "code",
   "execution_count": 5,
   "metadata": {
    "colab": {},
    "colab_type": "code",
    "id": "2Upf2jQDuNbt"
   },
   "outputs": [],
   "source": [
    "def coef_of_gellmann(ro, d_sub1, d_sub2):\n",
    "    \"\"\" coefficient of gellmann expansion \n",
    "    input : density matrix and dimensions of two subsystem\n",
    "    output: dictionary of coefficient\n",
    "    \"\"\"\n",
    "    \n",
    "    coef = {}  ## the coefficient's dictionary (suitable format for saving as a data)\n",
    "    gellmann_basis_d_sub1 = gellmann_basis(d_sub1) ## the gellmann matrix for a d_sub1 dimension system\n",
    "    gellmann_basis_d_sub2 = gellmann_basis(d_sub2) ## the gellmann matrix for a d_sub2 dimension system\n",
    "    \n",
    "    n1 = d_sub1**2\n",
    "    n2 = d_sub2**2\n",
    "    for i in range(n1):\n",
    "        for j in range(n2):\n",
    "            tensorP = np.kron(gellmann_basis_d_sub1[\"G{}\".format(i)],gellmann_basis_d_sub2[\"G{}\".format(j)]) ## Tensor product of gelllmann matrices\n",
    "            c = np.trace(np.dot(ro,tensorP))/4   ## dot product and trace\n",
    "            c = c.real       ## all of gellmann coefs is a real\n",
    "            c = round(c,8)  \n",
    "            coef.update({\"a{}{}\".format(i,j):c})  ## update the coef dict by a[i][j] and its gellmann coef for g[i][j]\n",
    "\n",
    "    index = np.array(coef)  ## change list to np.array() object\n",
    "    return coef"
   ]
  },
  {
   "cell_type": "markdown",
   "metadata": {
    "colab_type": "text",
    "id": "vfa0qkq6uNb6"
   },
   "source": [
    "this cell is just a test of this algotithm in 3 dimension bipatite systems."
   ]
  },
  {
   "cell_type": "code",
   "execution_count": 6,
   "metadata": {
    "colab": {},
    "colab_type": "code",
    "id": "uA-NxF1vuNcA"
   },
   "outputs": [],
   "source": [
    "N = 3\n",
    "\n",
    "ro = qp.rand_dm(N*N,0.5,dims=[[N,N], [N,N]])\n",
    "#print(coef_of_gellmann(ro))"
   ]
  },
  {
   "cell_type": "markdown",
   "metadata": {
    "colab_type": "text",
    "id": "jSoxsPBiuNcJ"
   },
   "source": [
    "# 4. Generate entangled states (PPT)"
   ]
  },
  {
   "cell_type": "markdown",
   "metadata": {},
   "source": [
    "In this cell we define a PPT funcion that check positive partial transpose."
   ]
  },
  {
   "cell_type": "code",
   "execution_count": 7,
   "metadata": {
    "colab": {},
    "colab_type": "code",
    "id": "VWGoxF5EuNcL"
   },
   "outputs": [],
   "source": [
    "def PPT(ro, d_sub1, d_sub2):\n",
    "    \"\"\" positive partial transpose \n",
    "    input : density matrix and the dimension of subsystem 1 and subsystem 2\n",
    "    output: dictionary of  coefficient of gellmann matrices and label 1 or 2 for entangeled states and unknown respectivly\n",
    "    \"\"\"\n",
    "    \n",
    "    ro_pt = qp.partial_transpose(ro,[0,1])  ## partial transpose in subsystem 2\n",
    "    eig = ro_pt.eigenstates()   ## calculate the eigenvalues and eigenstates\n",
    "    eigv = [round(i,8) for i in eig[0]] \n",
    "    \n",
    "    result = coef_of_gellmann(ro, d_sub1, d_sub2)\n",
    "    \n",
    "    if (eigv[0]<0 ):\n",
    "            result.update({\"label\":1})  ## the entangled states that labeled by 1\n",
    "            return result\n",
    "    else :\n",
    "            result.update({\"label\":2})  ## the unknown states that labeled by 2\n",
    "            return result\n"
   ]
  },
  {
   "cell_type": "markdown",
   "metadata": {},
   "source": [
    "# 5. Generate separable states (Convex combination)"
   ]
  },
  {
   "cell_type": "markdown",
   "metadata": {},
   "source": [
    "in this cell we define two function that:\n",
    "1. Convex_Combination: this function is give a matrix list and return a convex combination of this matrices\n",
    "2. generate_ran_den_list: this function is generate a list of random density matrices"
   ]
  },
  {
   "cell_type": "code",
   "execution_count": 8,
   "metadata": {},
   "outputs": [],
   "source": [
    "def Convex_Combination(matrix_list1, matrix_list2, index=10):\n",
    "    \"\"\" Convex Combination \n",
    "    input : two list of matrices that you want to build a convex combination of them. index is the number of iteration\n",
    "    output: a state that is a convex combination of input\n",
    "    \"\"\"\n",
    "    \n",
    "    coef = np.random.dirichlet(np.ones(index), size=1)   ## generating list of numbers that is positive and its sum is 1 with length equal to 'index'\n",
    "    \n",
    "    seprable_state = qp.Qobj()    ## build an empty Qobj for cycle\n",
    "    for i in range(index):\n",
    "        a = choice(matrix_list1)   ## choice a density matrix randomly\n",
    "        b = choice(matrix_list2)   ## choice a density matrix randomly\n",
    "        \n",
    "        tensorP = np.kron(a,b) ## Tensor product of density matrices\n",
    "        tensorP *= round(coef[0][i],8)  ## product of tensorP and a coef that come from the coef list\n",
    "        \n",
    "        seprable_state += tensorP  ## at the last its a convex combination of tensor product of density matrices\n",
    "    \n",
    "    return seprable_state\n",
    "\n",
    "\n",
    "def generate_ran_den_list(d, length= 100):\n",
    "    \"\"\" generate random density matrix list \n",
    "    input : dimension of system and the lenght of list\n",
    "    output: list of random density matrix with dimension 'd'\n",
    "    \"\"\"\n",
    "    \n",
    "    result = []\n",
    "    for i in range(length):\n",
    "        density = round(random(),4)     ## for build a random number between 0 and 1\n",
    "\n",
    "        rand = qp.rand_dm(d, density)   ## generate a random density matrix with dimension N\n",
    "        result.append(rand)        ## appending this random density matrix to ran_den_mat list    \n",
    "    \n",
    "    return result"
   ]
  },
  {
   "cell_type": "markdown",
   "metadata": {},
   "source": [
    "# 6. Convex hull approximation method"
   ]
  },
  {
   "cell_type": "markdown",
   "metadata": {},
   "source": [
    "Making a Convex Hull for a 2_qutrit system and checking for new points in the convex Hull"
   ]
  },
  {
   "cell_type": "code",
   "execution_count": 20,
   "metadata": {},
   "outputs": [],
   "source": [
    "d_sub1 = 3\n",
    "d_sub2 = 3\n",
    "num_extreme_points = 83\n",
    "index = np.zeros((1,81))\n",
    "\n",
    "for i in range(num_extreme_points):\n",
    "    ro = qp.rand_dm(d_sub1 * d_sub2, pure=True)\n",
    "\n",
    "    coef = list(coef_of_gellmann(ro, d_sub1, d_sub2).values())\n",
    "    coef = np.reshape(np.array(coef),(1,81))\n",
    "    index = np.vstack((index,coef))\n",
    "#print(np.shape(index[1:,]))"
   ]
  },
  {
   "cell_type": "markdown",
   "metadata": {},
   "source": [
    "Using different functions to build convex hull"
   ]
  },
  {
   "cell_type": "code",
   "execution_count": 7,
   "metadata": {},
   "outputs": [],
   "source": [
    "#generating convex hull from extreme points(Pure separable states)\n",
    "hull = Delaunay(index)\n",
    "#hull = ConvexHull(index)\n",
    "#print(index)"
   ]
  },
  {
   "cell_type": "markdown",
   "metadata": {},
   "source": [
    "The function that checks if a point is in a convex hull"
   ]
  },
  {
   "cell_type": "code",
   "execution_count": 8,
   "metadata": {},
   "outputs": [],
   "source": [
    "#This function checks if a point is in the convex hull or not\n",
    "def in_hull(p, hull):\n",
    "    \"\"\"\n",
    "    Test if points in `p` are in `hull`\n",
    "\n",
    "    `p` should be a `NxK` coordinates of `N` points in `K` dimensions\n",
    "    `hull` is either a scipy.spatial.Delaunay object or the `MxK` array of the \n",
    "    coordinates of `M` points in `K`dimensions for which Delaunay triangulation\n",
    "    will be computed\n",
    "    \"\"\"\n",
    "    from scipy.spatial import Delaunay\n",
    "    if not isinstance(hull,Delaunay):\n",
    "        hull = Delaunay(hull)\n",
    "\n",
    "    return hull.find_simplex(p)>=0"
   ]
  },
  {
   "cell_type": "markdown",
   "metadata": {},
   "source": [
    "Test"
   ]
  },
  {
   "cell_type": "code",
   "execution_count": 26,
   "metadata": {},
   "outputs": [],
   "source": [
    "ro = qp.rand_dm(9) ## generate the random density matrix\n",
    "\n",
    "coef = list(coef_of_gellmann(ro,3,3).values())\n",
    "coef = np.reshape(np.array(coef),(1,81)) \n",
    "\n",
    "#print(coef)\n",
    "print(in_hull(index[20:,],index))"
   ]
  },
  {
   "cell_type": "markdown",
   "metadata": {},
   "source": [
    "Making a Convex Hull for a 2_qubit system and checking for new points in the convex Hull."
   ]
  },
  {
   "cell_type": "code",
   "execution_count": 23,
   "metadata": {},
   "outputs": [],
   "source": [
    "d_sub1 = 2\n",
    "d_sub2 = 2\n",
    "num_extreme_points = 20\n",
    "index = np.zeros((1,16))\n",
    "\n",
    "for i in range(num_extreme_points):\n",
    "    ro = qp.rand_dm(d_sub1 * d_sub2, pure=True)\n",
    "    \n",
    "    coef = list(coef_of_gellmann(ro, d_sub1, d_sub2).values())\n",
    "    coef = np.reshape(np.array(coef),(1,16))\n",
    "    index = np.vstack((index,coef))\n",
    "#print(np.real(index[1:,]))"
   ]
  },
  {
   "cell_type": "code",
   "execution_count": 25,
   "metadata": {},
   "outputs": [
    {
     "data": {
      "text/plain": [
       "True"
      ]
     },
     "execution_count": 25,
     "metadata": {},
     "output_type": "execute_result"
    }
   ],
   "source": [
    "hull = ConvexHull(index[:,])\n",
    "in_hull(index[2,],index)"
   ]
  },
  {
   "cell_type": "markdown",
   "metadata": {},
   "source": [
    "# 7. Generate data"
   ]
  },
  {
   "cell_type": "markdown",
   "metadata": {},
   "source": [
    "in this cell we build 100 000 random states and labeled that. after that we build a data frame for saving and using in future."
   ]
  },
  {
   "cell_type": "code",
   "execution_count": 11,
   "metadata": {
    "colab": {},
    "colab_type": "code",
    "id": "5kfhME1RuNcT"
   },
   "outputs": [],
   "source": [
    "%%time\n",
    "\n",
    "states={} #states\n",
    "d_sub1 = 3 #dimension of subsystem 1\n",
    "d_sub2 = 3 #dimension of subsystem 2\n",
    "R1 = 50000   # the number of entangled states\n",
    "\n",
    "##generate the entangled states\n",
    "for i in range (1, R1+1):\n",
    "    density = round(random(),4)     ## for build a random number between 0 and 1\n",
    "    \n",
    "    ro = qp.rand_dm(d_sub1*d_sub2, density, dims=[[d_sub1,d_sub2], [d_sub1,d_sub2]])     #generating random density matrix with a random density\n",
    "    states.update({\"{}\".format(i):PPT(ro, d_sub1, d_sub2)})     # update the states by its number and label and gellmann coefs\n",
    "\n",
    "\n",
    "##generate the separable states\n",
    "R2 = 50000  # the number of seperable states\n",
    "ran_den_mat1 = generate_ran_den_list(d_sub1, 100) ## a list of random density matrix for a system\n",
    "ran_den_mat2 = generate_ran_den_list(d_sub2, 100) ## a list of random density matrix for a system\n",
    "\n",
    "for i in range(R1+1, R1+R2+1):\n",
    "    index = randint(10,100)   ## build a integer number between 10 and 100 for using in function\n",
    "    sep = Convex_Combination(ran_den_mat1, ran_den_mat2, index)  ## generate a random seprable density matrix\n",
    "    \n",
    "    sep_coef = coef_of_gellmann(sep, d_sub1, d_sub2)   ## calculate the gellmann coefs\n",
    "    sep_coef.update({\"label\":0})   ## labeled seprable states by 0\n",
    "    \n",
    "    states.update({\"{}\".format(i):sep_coef})  ## update states\n",
    "    \n",
    "    \n",
    "df = pd.DataFrame(data=states).T  # build a data frame by pandas\n",
    "\n",
    "df.to_csv('data_of_states.csv.zip')  #for saving the data in zip format\n",
    "#df.to_excel('data_of_states.xlsx')  #for saving tha data in an excel file"
   ]
  },
  {
   "cell_type": "markdown",
   "metadata": {},
   "source": [
    "in this cell we save our data frame as a zip file"
   ]
  },
  {
   "cell_type": "code",
   "execution_count": 19,
   "metadata": {
    "colab": {
     "base_uri": "https://localhost:8080/",
     "height": 163
    },
    "colab_type": "code",
    "executionInfo": {
     "elapsed": 1231,
     "status": "error",
     "timestamp": 1584469470718,
     "user": {
      "displayName": "mahkame salimi",
      "photoUrl": "https://lh3.googleusercontent.com/a-/AOh14GhXCkBWY2tBzsPtIAaeDyn3ng2gbWea3ReVrZhe=s64",
      "userId": "11757140415455670736"
     },
     "user_tz": -210
    },
    "id": "rt63ussFuNcc",
    "outputId": "dae4bdb2-205b-4bbc-b702-de4e82d70511"
   },
   "outputs": [],
   "source": [
    "df.to_csv('data_of_states.csv.zip')\n",
    "##df.to_csv('data_of_states.csv')"
   ]
  },
  {
   "cell_type": "markdown",
   "metadata": {},
   "source": [
    "in the blow cell we define a function that merge all of our data to a one data."
   ]
  },
  {
   "cell_type": "code",
   "execution_count": 2,
   "metadata": {},
   "outputs": [],
   "source": [
    "def merge(list_data):\n",
    "    N = len(list_data)  #the number of datas\n",
    "    n = [len(i.index) for i in list_data]  # length of index of every data\n",
    "    \n",
    "    new_datas = [list_data[0]]\n",
    "    index = {}\n",
    "    k = n[0]\n",
    "    for i in range(1,N):\n",
    "        last_index, new_index = [i for i in range(1,n[i]+1)], []\n",
    "        for j in range(1+k, n[i]+1+k):\n",
    "            new_index.append(j)\n",
    "            \n",
    "        index = {last_index[p]:new_index[p] for p in range(n[i])}\n",
    "        df = list_data[i]\n",
    "        df = df.rename(index = index)\n",
    "        new_datas.append(df)\n",
    "        k += n[i]\n",
    "    \n",
    "    result_data = pd.concat(new_datas)\n",
    "    return result_data"
   ]
  },
  {
   "cell_type": "markdown",
   "metadata": {},
   "source": [
    "this function dont true work because of 'memory error'.\n",
    "\n",
    "so we dont merge datas and just fix their index for future."
   ]
  },
  {
   "cell_type": "markdown",
   "metadata": {},
   "source": [
    "at this cell we read the unfixed datas. after that we drop the 'a88' column, because it's same for all."
   ]
  },
  {
   "cell_type": "code",
   "execution_count": 2,
   "metadata": {},
   "outputs": [],
   "source": [
    "#df1 = pd.read_csv('data/data_of_states1.csv.zip', index_col=0, compression = 'zip')\n",
    "#df2 = pd.read_csv('data/data_of_states2.csv.zip', index_col=0, compression = 'zip')\n",
    "#df3 = pd.read_csv('data/data_of_states3.csv.zip', index_col=0, compression = 'zip')\n",
    "#df4 = pd.read_csv('data/data_of_states4.csv.zip', index_col=0, compression = 'zip')\n",
    "#df5 = pd.read_csv('data/data_of_states5.csv.zip', index_col=0, compression = 'zip')\n",
    "#df6 = pd.read_csv('data/data_of_states6.csv.zip', index_col=0, compression = 'zip')\n",
    "#df7 = pd.read_csv('data/data_of_states7.csv.zip', index_col=0, compression = 'zip')\n",
    "#df8 = pd.read_csv('data/data_of_states8.csv.zip', index_col=0, compression = 'zip')\n",
    "#df9 = pd.read_csv('data/data_of_states_100.csv.zip', index_col=0, compression = 'zip')\n",
    "#df10 = pd.read_csv('data/data_of_states_200.csv.zip', index_col=0, compression = 'zip')\n",
    "\n",
    "df = df.drop(columns=['a88'])"
   ]
  },
  {
   "cell_type": "markdown",
   "metadata": {},
   "source": [
    "in this cell we fixed (rename) the index."
   ]
  },
  {
   "cell_type": "code",
   "execution_count": 4,
   "metadata": {},
   "outputs": [],
   "source": [
    "k = 1000000\n",
    "\n",
    "a = [i for i in range(1,100000+1)]\n",
    "b = [i for i in range(k+1,k+100000+1)]\n",
    "c = {a[i]:b[i] for i in range(len(a))}\n",
    "\n",
    "df = df.rename(index = c)"
   ]
  },
  {
   "cell_type": "code",
   "execution_count": 6,
   "metadata": {},
   "outputs": [],
   "source": [
    "#df10.to_csv('fixed_data/data_of_states_10(100 k).csv.zip')\n",
    "#df1.to_csv('fixed_data/data_of_states_2(100 k).csv.zip')\n",
    "#df2.to_csv('fixed_data/data_of_states_3(100 k).csv.zip')\n",
    "#df3.to_csv('fixed_data/data_of_states_4(100 k).csv.zip')\n",
    "#df4.to_csv('fixed_data/data_of_states_5(100 k).csv.zip')\n",
    "#df5.to_csv('fixed_data/data_of_states_6(100 k).csv.zip')\n",
    "#df6.to_csv('fixed_data/data_of_states_7(100 k).csv.zip')\n",
    "#df7.to_csv('fixed_data/data_of_states_8(100 k).csv.zip')\n",
    "#df8.to_csv('fixed_data/data_of_states_9(100 k).csv.zip')\n",
    "#df9.to_csv('fixed_data/data_of_states_10(100 k).csv.zip')"
   ]
  },
  {
   "cell_type": "markdown",
   "metadata": {},
   "source": [
    "# 8. Correlation of data"
   ]
  },
  {
   "cell_type": "markdown",
   "metadata": {},
   "source": [
    "the plot shows the correlation of 100000 random states"
   ]
  },
  {
   "cell_type": "code",
   "execution_count": 4,
   "metadata": {},
   "outputs": [
    {
     "data": {
      "image/png": "[encoded data removed]",
      "text/plain": [
       "<Figure size 576x576 with 2 Axes>"
      ]
     },
     "metadata": {
      "needs_background": "light"
     },
     "output_type": "display_data"
    }
   ],
   "source": [
    "import matplotlib.pyplot as plt\n",
    "import seaborn\n",
    "\n",
    "#import the data\n",
    "df = pd.read_csv('fixed_data/data_of_states_4(100 k).csv.zip', index_col=0, compression = 'zip')\n",
    "\n",
    "# Compute the correlation matrix\n",
    "corr = df.corr()\n",
    "\n",
    "# Set up the matplotlib figure\n",
    "f, ax = plt.subplots(figsize=(8, 8))\n",
    "\n",
    "# Generate a custom diverging colormap\n",
    "cmap = seaborn.diverging_palette(220, 10, as_cmap=True)\n",
    "\n",
    "# Draw the heatmap with the mask and correct aspect ratio\n",
    "#data_mini = d.sample(10000)\n",
    "seaborn.heatmap(corr, cmap=cmap, vmax=.3, center=0)\n",
    "plt.show()"
   ]
  }
 ],
 "metadata": {
  "colab": {
   "collapsed_sections": [],
   "name": "PPt.ipynb",
   "provenance": []
  },
  "kernelspec": {
   "display_name": "Python 3",
   "language": "python",
   "name": "python3"
  },
  "language_info": {
   "codemirror_mode": {
    "name": "ipython",
    "version": 3
   },
   "file_extension": ".py",
   "mimetype": "text/x-python",
   "name": "python",
   "nbconvert_exporter": "python",
   "pygments_lexer": "ipython3",
   "version": "3.7.1"
  }
 },
 "nbformat": 4,
 "nbformat_minor": 1
}
